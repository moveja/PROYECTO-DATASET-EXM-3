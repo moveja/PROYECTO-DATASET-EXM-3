{
 "cells": [
  {
   "attachments": {
    "image.png": {
     "image/png": "[encoded data removed]"
    }
   },
   "cell_type": "markdown",
   "metadata": {},
   "source": [
    "# ARBOL DE DECISION\n",
    "## Conjunto de datos de abulón\n",
    "### INTRODUCCIÓN\n",
    "Los abulones son moluscos de gran tradición y antigüedad, muy conocidos por su carne, pertenecen al género Haliotis. Se caracterizan por tener una concha en forma de oreja con una cara interna iridiscente y aperlada\n",
    "\n",
    "### CLASIFICACIÓN \n",
    "El \"abulón amarillo\" tiene la concha circular, de 16 a 17 centímetros de largo\n",
    "El \"abulón azul\" presenta concha ovalada de 18 centímetros de longitud\n",
    "El \"abulón chino\" su concha es delgada y ovalada de 13 a 16 centímetros\n",
    "El abulón que presenta la concha más grande en el estado adulto es el \"abulón rojo\" (Haliotis rufescens)\n",
    "### Sobre las columnas \n",
    "Se proporciona el nombre de las columnas, el tipo de atributo, la unidad de medida y una breve descripción. El número de anillos es el valor a predecir: ya sea como valor continuo o como problema de clasificación.\n",
    "\n",
    "\n",
    "![image.png](attachment:image.png)\n",
    "\n",
    "Las variables independientes(X) estaran compuestas por las columnas:\n",
    "\n",
    "•\t'Length (mm)'\n",
    "•\t'Diameter (mm)'\n",
    "•\t'Height (mm)'\n",
    "•\t'Whole (grams)'\n",
    "•\t'Shucked (grams)'\n",
    "•\t'Viscera (grams)'\n",
    "•\t'Shell (grams)'\n",
    "•\t'Rings (years)'\n",
    "\n",
    "\n",
    "La variable dependiente(Y) estara compuesta por la columna ('Sex')\n",
    "esto para lograr clasificar con los modelos de aprendizaje supervisado, el genero de los correspondientes datos."
   ]
  },
  {
   "cell_type": "code",
   "execution_count": 28,
   "metadata": {},
   "outputs": [],
   "source": [
    "import pandas as pd\n",
    "dataset = pd.read_csv(\"abalone.csv\", header=0)\n",
    "X=dataset[['Length','Diameter','Height','Whole','Shucked','Viscera','Shell','Rings']]\n",
    "y=dataset['Sex']"
   ]
  },
  {
   "cell_type": "code",
   "execution_count": 29,
   "metadata": {},
   "outputs": [
    {
     "name": "stdout",
     "output_type": "stream",
     "text": [
      "\n",
      " [[ 0.455   0.365   0.095  ...  0.101   0.15   15.    ]\n",
      " [ 0.35    0.265   0.09   ...  0.0485  0.07    7.    ]\n",
      " [ 0.53    0.42    0.135  ...  0.1415  0.21    9.    ]\n",
      " ...\n",
      " [ 0.6     0.475   0.205  ...  0.2875  0.308   9.    ]\n",
      " [ 0.625   0.485   0.15   ...  0.261   0.296  10.    ]\n",
      " [ 0.71    0.555   0.195  ...  0.3765  0.495  12.    ]]\n",
      "\n",
      " 0       1\n",
      "1       1\n",
      "2       2\n",
      "3       1\n",
      "4       3\n",
      "       ..\n",
      "4172    2\n",
      "4173    1\n",
      "4174    1\n",
      "4175    2\n",
      "4176    1\n",
      "Name: Sex, Length: 4177, dtype: int64\n",
      "[ 0.455   0.365   0.095   0.514   0.2245  0.101   0.15   15.    ]\n"
     ]
    }
   ],
   "source": [
    "import numpy as np\n",
    "\n",
    "from sklearn.impute import SimpleImputer\n",
    "imputacion = SimpleImputer(missing_values=np.nan, strategy=\"mean\")\n",
    "X=imputacion.fit_transform(X)\n",
    "\n",
    "print('\\n',X)\n",
    "print('\\n',y)\n",
    "print(X[0])\n",
    "matriz_imputer = imputacion.fit_transform(X)\n",
    "from sklearn import preprocessing\n",
    "matriz_normal = preprocessing.normalize(matriz_imputer)"
   ]
  },
  {
   "cell_type": "code",
   "execution_count": 30,
   "metadata": {},
   "outputs": [],
   "source": [
    "from sklearn import svm\n",
    "from sklearn.ensemble import RandomForestClassifier\n",
    "from sklearn.model_selection import StratifiedShuffleSplit\n",
    "from sklearn.model_selection import cross_val_score \n",
    "from sklearn.linear_model import Perceptron\n",
    "from sklearn.neural_network import MLPClassifier\n",
    "from sklearn import svm\n",
    "from sklearn.metrics import plot_confusion_matrix\n",
    "import pandas as pd\n",
    "import math\n",
    "import numpy as np\n",
    "from sklearn import linear_model\n",
    "from sklearn import model_selection\n",
    "from sklearn.metrics import classification_report\n",
    "from sklearn.metrics import confusion_matrix\n",
    "from sklearn.metrics import accuracy_score\n",
    "import matplotlib.pyplot as plt\n",
    "import seaborn as sb\n",
    "from math import e"
   ]
  },
  {
   "cell_type": "code",
   "execution_count": 34,
   "metadata": {},
   "outputs": [],
   "source": [
    "X_trn=[]\n",
    "X_tst=[]\n",
    "y_trn=[]\n",
    "y_tst=[]\n",
    "aux=[]\n",
    "ind=0\n",
    "fila=[]\n",
    "lista2=[]\n",
    "\n",
    "TABLASC=[]\n",
    "\n",
    "cv = StratifiedShuffleSplit(n_splits=10, test_size=0.20, random_state=0)\n",
    "iter_for_prediction = cv.split(X, y)\n"
   ]
  },
  {
   "cell_type": "code",
   "execution_count": 35,
   "metadata": {},
   "outputs": [
    {
     "name": "stdout",
     "output_type": "stream",
     "text": [
      "0\n"
     ]
    },
    {
     "name": "stderr",
     "output_type": "stream",
     "text": [
      "F:\\Anaconda\\lib\\site-packages\\sklearn\\linear_model\\_logistic.py:762: ConvergenceWarning: lbfgs failed to converge (status=1):\n",
      "STOP: TOTAL NO. of ITERATIONS REACHED LIMIT.\n",
      "\n",
      "Increase the number of iterations (max_iter) or scale the data as shown in:\n",
      "    https://scikit-learn.org/stable/modules/preprocessing.html\n",
      "Please also refer to the documentation for alternative solver options:\n",
      "    https://scikit-learn.org/stable/modules/linear_model.html#logistic-regression\n",
      "  n_iter_i = _check_optimize_result(\n"
     ]
    },
    {
     "name": "stdout",
     "output_type": "stream",
     "text": [
      "ACCURACY:  0.5251196172248804\n",
      "[[142  89  75]\n",
      " [154  75  32]\n",
      " [ 37  10 222]]\n",
      "1\n"
     ]
    },
    {
     "name": "stderr",
     "output_type": "stream",
     "text": [
      "F:\\Anaconda\\lib\\site-packages\\sklearn\\linear_model\\_logistic.py:762: ConvergenceWarning: lbfgs failed to converge (status=1):\n",
      "STOP: TOTAL NO. of ITERATIONS REACHED LIMIT.\n",
      "\n",
      "Increase the number of iterations (max_iter) or scale the data as shown in:\n",
      "    https://scikit-learn.org/stable/modules/preprocessing.html\n",
      "Please also refer to the documentation for alternative solver options:\n",
      "    https://scikit-learn.org/stable/modules/linear_model.html#logistic-regression\n",
      "  n_iter_i = _check_optimize_result(\n"
     ]
    },
    {
     "name": "stdout",
     "output_type": "stream",
     "text": [
      "ACCURACY:  0.5532296650717703\n",
      "[[307 162 143]\n",
      " [282 177  63]\n",
      " [ 71  26 441]]\n",
      "2\n"
     ]
    },
    {
     "name": "stderr",
     "output_type": "stream",
     "text": [
      "F:\\Anaconda\\lib\\site-packages\\sklearn\\linear_model\\_logistic.py:762: ConvergenceWarning: lbfgs failed to converge (status=1):\n",
      "STOP: TOTAL NO. of ITERATIONS REACHED LIMIT.\n",
      "\n",
      "Increase the number of iterations (max_iter) or scale the data as shown in:\n",
      "    https://scikit-learn.org/stable/modules/preprocessing.html\n",
      "Please also refer to the documentation for alternative solver options:\n",
      "    https://scikit-learn.org/stable/modules/linear_model.html#logistic-regression\n",
      "  n_iter_i = _check_optimize_result(\n"
     ]
    },
    {
     "name": "stdout",
     "output_type": "stream",
     "text": [
      "ACCURACY:  0.5554226475279107\n",
      "[[444 257 217]\n",
      " [403 285  95]\n",
      " [ 98  45 664]]\n",
      "3\n"
     ]
    },
    {
     "name": "stderr",
     "output_type": "stream",
     "text": [
      "F:\\Anaconda\\lib\\site-packages\\sklearn\\linear_model\\_logistic.py:762: ConvergenceWarning: lbfgs failed to converge (status=1):\n",
      "STOP: TOTAL NO. of ITERATIONS REACHED LIMIT.\n",
      "\n",
      "Increase the number of iterations (max_iter) or scale the data as shown in:\n",
      "    https://scikit-learn.org/stable/modules/preprocessing.html\n",
      "Please also refer to the documentation for alternative solver options:\n",
      "    https://scikit-learn.org/stable/modules/linear_model.html#logistic-regression\n",
      "  n_iter_i = _check_optimize_result(\n"
     ]
    },
    {
     "name": "stdout",
     "output_type": "stream",
     "text": [
      "ACCURACY:  0.5529306220095693\n",
      "[[584 338 302]\n",
      " [504 382 158]\n",
      " [128  65 883]]\n",
      "4\n"
     ]
    },
    {
     "name": "stderr",
     "output_type": "stream",
     "text": [
      "F:\\Anaconda\\lib\\site-packages\\sklearn\\linear_model\\_logistic.py:762: ConvergenceWarning: lbfgs failed to converge (status=1):\n",
      "STOP: TOTAL NO. of ITERATIONS REACHED LIMIT.\n",
      "\n",
      "Increase the number of iterations (max_iter) or scale the data as shown in:\n",
      "    https://scikit-learn.org/stable/modules/preprocessing.html\n",
      "Please also refer to the documentation for alternative solver options:\n",
      "    https://scikit-learn.org/stable/modules/linear_model.html#logistic-regression\n",
      "  n_iter_i = _check_optimize_result(\n"
     ]
    },
    {
     "name": "stdout",
     "output_type": "stream",
     "text": [
      "ACCURACY:  0.5543062200956937\n",
      "[[ 765  394  371]\n",
      " [ 659  449  197]\n",
      " [ 164   78 1103]]\n",
      "5\n"
     ]
    },
    {
     "name": "stderr",
     "output_type": "stream",
     "text": [
      "F:\\Anaconda\\lib\\site-packages\\sklearn\\linear_model\\_logistic.py:762: ConvergenceWarning: lbfgs failed to converge (status=1):\n",
      "STOP: TOTAL NO. of ITERATIONS REACHED LIMIT.\n",
      "\n",
      "Increase the number of iterations (max_iter) or scale the data as shown in:\n",
      "    https://scikit-learn.org/stable/modules/preprocessing.html\n",
      "Please also refer to the documentation for alternative solver options:\n",
      "    https://scikit-learn.org/stable/modules/linear_model.html#logistic-regression\n",
      "  n_iter_i = _check_optimize_result(\n"
     ]
    },
    {
     "name": "stdout",
     "output_type": "stream",
     "text": [
      "ACCURACY:  0.5578149920255183\n",
      "[[ 890  500  446]\n",
      " [ 729  586  251]\n",
      " [ 184  108 1322]]\n",
      "6\n"
     ]
    },
    {
     "name": "stderr",
     "output_type": "stream",
     "text": [
      "F:\\Anaconda\\lib\\site-packages\\sklearn\\linear_model\\_logistic.py:762: ConvergenceWarning: lbfgs failed to converge (status=1):\n",
      "STOP: TOTAL NO. of ITERATIONS REACHED LIMIT.\n",
      "\n",
      "Increase the number of iterations (max_iter) or scale the data as shown in:\n",
      "    https://scikit-learn.org/stable/modules/preprocessing.html\n",
      "Please also refer to the documentation for alternative solver options:\n",
      "    https://scikit-learn.org/stable/modules/linear_model.html#logistic-regression\n",
      "  n_iter_i = _check_optimize_result(\n"
     ]
    },
    {
     "name": "stdout",
     "output_type": "stream",
     "text": [
      "ACCURACY:  0.5545112781954887\n",
      "[[1028  594  520]\n",
      " [ 848  682  297]\n",
      " [ 230  118 1535]]\n",
      "7\n"
     ]
    },
    {
     "name": "stderr",
     "output_type": "stream",
     "text": [
      "F:\\Anaconda\\lib\\site-packages\\sklearn\\linear_model\\_logistic.py:762: ConvergenceWarning: lbfgs failed to converge (status=1):\n",
      "STOP: TOTAL NO. of ITERATIONS REACHED LIMIT.\n",
      "\n",
      "Increase the number of iterations (max_iter) or scale the data as shown in:\n",
      "    https://scikit-learn.org/stable/modules/preprocessing.html\n",
      "Please also refer to the documentation for alternative solver options:\n",
      "    https://scikit-learn.org/stable/modules/linear_model.html#logistic-regression\n",
      "  n_iter_i = _check_optimize_result(\n"
     ]
    },
    {
     "name": "stdout",
     "output_type": "stream",
     "text": [
      "ACCURACY:  0.5515849282296651\n",
      "[[1232  631  585]\n",
      " [1031  710  347]\n",
      " [ 276  129 1747]]\n",
      "8\n"
     ]
    },
    {
     "name": "stderr",
     "output_type": "stream",
     "text": [
      "F:\\Anaconda\\lib\\site-packages\\sklearn\\linear_model\\_logistic.py:762: ConvergenceWarning: lbfgs failed to converge (status=1):\n",
      "STOP: TOTAL NO. of ITERATIONS REACHED LIMIT.\n",
      "\n",
      "Increase the number of iterations (max_iter) or scale the data as shown in:\n",
      "    https://scikit-learn.org/stable/modules/preprocessing.html\n",
      "Please also refer to the documentation for alternative solver options:\n",
      "    https://scikit-learn.org/stable/modules/linear_model.html#logistic-regression\n",
      "  n_iter_i = _check_optimize_result(\n"
     ]
    },
    {
     "name": "stdout",
     "output_type": "stream",
     "text": [
      "ACCURACY:  0.5526315789473685\n",
      "[[1320  777  657]\n",
      " [1094  866  389]\n",
      " [ 293  156 1972]]\n",
      "9\n",
      "ACCURACY:  0.5489234449760766\n",
      "[[1353  991  716]\n",
      " [1107 1080  423]\n",
      " [ 332  202 2156]]\n"
     ]
    },
    {
     "name": "stderr",
     "output_type": "stream",
     "text": [
      "F:\\Anaconda\\lib\\site-packages\\sklearn\\linear_model\\_logistic.py:762: ConvergenceWarning: lbfgs failed to converge (status=1):\n",
      "STOP: TOTAL NO. of ITERATIONS REACHED LIMIT.\n",
      "\n",
      "Increase the number of iterations (max_iter) or scale the data as shown in:\n",
      "    https://scikit-learn.org/stable/modules/preprocessing.html\n",
      "Please also refer to the documentation for alternative solver options:\n",
      "    https://scikit-learn.org/stable/modules/linear_model.html#logistic-regression\n",
      "  n_iter_i = _check_optimize_result(\n"
     ]
    }
   ],
   "source": [
    "for index, (train_index, test_index) in enumerate(iter_for_prediction):\n",
    "    print(index)\n",
    "    randomf = RandomForestClassifier(random_state=0)\n",
    "        \n",
    "    for i in range(3341):\n",
    "        ind = train_index[i]\n",
    "        X_trn.append(X[ind])\n",
    "    for j in range(836):\n",
    "        ind=test_index[j]\n",
    "        X_tst.append(X[ind])\n",
    "    for k in range(3341):\n",
    "        ind = train_index[k]\n",
    "        y_trn.append(y[ind])\n",
    "    for l in range(836):\n",
    "        ind=test_index[l]\n",
    "        y_tst.append(y[ind])\n",
    "\n",
    "    imputacion = SimpleImputer(missing_values=np.nan, strategy=\"mean\")\n",
    "    \n",
    "    T=imputacion.fit_transform(X_tst)\n",
    "    matriz_imputer = imputacion.fit_transform(T)\n",
    "    matriz_normal = preprocessing.normalize(matriz_imputer)\n",
    "    \n",
    "    class_names = ['M','F','I']\n",
    "    classifier = svm.SVC(kernel='linear', C=0.01).fit(X_trn, y_trn)\n",
    "    \n",
    "    model = linear_model.LogisticRegression()\n",
    "    model.fit(X_trn,y_trn)\n",
    "    predictions = model.predict(X_trn)    \n",
    "    predictions = model.predict(X_tst)\n",
    "    print('ACCURACY: ',accuracy_score(y_tst, predictions))\n",
    "    print(confusion_matrix(y_tst, predictions))\n",
    "    \n",
    "    TABLASC.append(accuracy_score(y_tst, predictions))"
   ]
  },
  {
   "cell_type": "code",
   "execution_count": null,
   "metadata": {},
   "outputs": [],
   "source": []
  }
 ],
 "metadata": {
  "kernelspec": {
   "display_name": "Python 3",
   "language": "python",
   "name": "python3"
  },
  "language_info": {
   "codemirror_mode": {
    "name": "ipython",
    "version": 3
   },
   "file_extension": ".py",
   "mimetype": "text/x-python",
   "name": "python",
   "nbconvert_exporter": "python",
   "pygments_lexer": "ipython3",
   "version": "3.8.3"
  }
 },
 "nbformat": 4,
 "nbformat_minor": 4
}
